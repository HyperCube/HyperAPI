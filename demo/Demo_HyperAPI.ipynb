{
 "cells": [
  {
   "cell_type": "markdown",
   "metadata": {},
   "source": [
    "# HyperAPI Demonstration"
   ]
  },
  {
   "cell_type": "markdown",
   "metadata": {},
   "source": [
    "Add the path to the API to the Python path to be able to import the API"
   ]
  },
  {
   "cell_type": "code",
   "execution_count": null,
   "metadata": {
    "collapsed": true
   },
   "outputs": [],
   "source": [
    "HOME= r'/home/hypercube'\n",
    "import os"
   ]
  },
  {
   "cell_type": "markdown",
   "metadata": {},
   "source": [
    "Import the API"
   ]
  },
  {
   "cell_type": "code",
   "execution_count": null,
   "metadata": {},
   "outputs": [],
   "source": [
    "from HyperAPI import Api"
   ]
  },
  {
   "cell_type": "markdown",
   "metadata": {},
   "source": [
    "Authentication is made with the API Token available from the user settings"
   ]
  },
  {
   "cell_type": "code",
   "execution_count": null,
   "metadata": {
    "collapsed": true
   },
   "outputs": [],
   "source": [
    "MY_TOKEN = \"PLEASE_INSERT_YOUR_TOKEN_HERE\""
   ]
  },
  {
   "cell_type": "code",
   "execution_count": null,
   "metadata": {},
   "outputs": [],
   "source": [
    "api = Api(MY_TOKEN)"
   ]
  },
  {
   "cell_type": "markdown",
   "metadata": {},
   "source": [
    "---"
   ]
  },
  {
   "cell_type": "markdown",
   "metadata": {},
   "source": [
    "## Manage projects\n",
    "- Create a project : `get_or_create`, `create`\n",
    "- List and filter projects : `filter`\n",
    "- Retrieve project : `get`\n",
    "- Set a project as default : `set_as_default`"
   ]
  },
  {
   "cell_type": "code",
   "execution_count": null,
   "metadata": {},
   "outputs": [],
   "source": [
    "PRJ_NAME = \"Demo API Project\"\n",
    "# Create\n",
    "api.Project.get_or_create(PRJ_NAME)\n",
    "# List and filter\n",
    "print('List of projects :')\n",
    "for _project in api.Project.filter(): print('\\t- {}'.format(_project.name))\n",
    "# Retrieve project\n",
    "project = api.Project.get(PRJ_NAME)\n",
    "# Set project as default\n",
    "project.set_as_default()\n",
    "print('Is project default ? : {}'.format(project.is_default))"
   ]
  },
  {
   "cell_type": "markdown",
   "metadata": {},
   "source": [
    "## Manage Datasets\n",
    "- Create a dataset : `get_or_create`, `create`, `create_from_dataframe`\n",
    "- List and filter projects : `filter`\n",
    "- Retrieve dataset : `get`\n",
    "- Set a dataset as default : `set_as_default`"
   ]
  },
  {
   "cell_type": "code",
   "execution_count": null,
   "metadata": {},
   "outputs": [],
   "source": [
    "DS_NAME = \"Demo API Dataset\"\n",
    "DS_PATH = os.path.join(HOME, 'Demo', 'Titanic.csv')\n",
    "# Create\n",
    "project.Dataset.get_or_create(DS_NAME, DS_PATH)\n",
    "# List and filter\n",
    "print('List of datasets :')\n",
    "for _dataset in project.Dataset.filter(): print('\\t- {}'.format(_dataset.name))\n",
    "# Retrieve dataset\n",
    "dataset = project.Dataset.get(DS_NAME)\n",
    "# Set dataset as default\n",
    "dataset.set_as_default()\n",
    "print('Is dataset default ? : {}'.format(dataset.is_default))"
   ]
  },
  {
   "cell_type": "markdown",
   "metadata": {},
   "source": [
    "## Manage Variables\n",
    "- List variables : `variables`\n",
    "- Retrieve variable : `get_variable_by_name`"
   ]
  },
  {
   "cell_type": "code",
   "execution_count": null,
   "metadata": {},
   "outputs": [],
   "source": [
    "# List variables\n",
    "dataset.variables\n",
    "# Retrieve one variable\n",
    "VAR_NAME = 'Survival_Status'\n",
    "variable = dataset.get_variable_by_name(VAR_NAME)\n",
    "print('Variable missing value count : {}'.format(variable.missing_value_count))\n",
    "print('Variable modalitites : {}'.format(variable.modalities))"
   ]
  },
  {
   "cell_type": "markdown",
   "metadata": {},
   "source": [
    "## Manage Targets\n",
    "- Create a target : `create`, `create_targets`, `create_description`\n",
    "- List and filter targets : `filter`\n",
    "- Retrieve a target : `get`"
   ]
  },
  {
   "cell_type": "code",
   "execution_count": null,
   "metadata": {},
   "outputs": [],
   "source": [
    "# Create target and description\n",
    "project.Target.create_description(variable)\n",
    "# List targets\n",
    "print('List of targets :')\n",
    "for _target in project.Target.filter():print('\\t- {}'.format(_target.name))\n",
    "# Get a target or description\n",
    "TARGET_NAME = VAR_NAME + '_description'\n",
    "target = project.Target.get(TARGET_NAME)\n",
    "print('Target type : {}'.format(target.indicator_type))"
   ]
  },
  {
   "cell_type": "markdown",
   "metadata": {},
   "source": [
    "## Manage Xrays\n",
    "- Create a Xray : `create`, `get_or_create`\n",
    "- List Xrays : `filter`\n",
    "- Retrieve a Xray : `get`\n",
    "- Get results on variable : `get`\n",
    "- Delete : `delete`"
   ]
  },
  {
   "cell_type": "code",
   "execution_count": null,
   "metadata": {},
   "outputs": [],
   "source": [
    "# Create Xray\n",
    "XRAY_NAME = \"Xray \" + TARGET_NAME + \" (\" + DS_NAME + \")\"\n",
    "xray = dataset.Xray.get_or_create(XRAY_NAME, target)\n",
    "# List Xrays\n",
    "dataset.Xray.filter()\n",
    "# Get Xray\n",
    "xray = dataset.Xray.get(XRAY_NAME)\n",
    "# List Xray variables\n",
    "xray.variables\n",
    "# Get result on Xray variable\n",
    "print('List Variables by contrast rate :')\n",
    "for _variable in sorted(xray.variables, key=lambda x: x.contrast_rate_value, reverse=True):\n",
    "    print('\\t{: <40} : {:.3f}'.format(_variable.name, _variable.contrast_rate_value))"
   ]
  },
  {
   "cell_type": "markdown",
   "metadata": {},
   "source": [
    "## Manage Rulesets\n",
    "- Create a Ruleset : `create`, `get_or_create`\n",
    "- List Rulesets : `filter`\n",
    "- Retrieve a Ruleset : `get`\n",
    "- Get and filter rules generated by a Ruleset : `get_rules`"
   ]
  },
  {
   "cell_type": "code",
   "execution_count": null,
   "metadata": {},
   "outputs": [],
   "source": [
    "# Create a new target\n",
    "target = project.Target.create(variable)\n",
    "print('{} - {}'.format(target.name, target.indicator_type))"
   ]
  },
  {
   "cell_type": "code",
   "execution_count": null,
   "metadata": {},
   "outputs": [],
   "source": [
    "# Create a ruleset\n",
    "dataset.Ruleset.get_or_create('Demo Ruleset', kpi=target)\n",
    "# Get a ruleset\n",
    "ruleset = dataset.Ruleset.get('Demo Ruleset')\n",
    "# Get rules from the ruleset\n",
    "ruleset.get_rules(limit=2, sort={'score':'purity', 'asc':True})"
   ]
  }
 ],
 "metadata": {
  "kernelspec": {
   "display_name": "Python 3",
   "language": "python",
   "name": "python3"
  },
  "language_info": {
   "codemirror_mode": {
    "name": "ipython",
    "version": 3
   },
   "file_extension": ".py",
   "mimetype": "text/x-python",
   "name": "python",
   "nbconvert_exporter": "python",
   "pygments_lexer": "ipython3",
   "version": "3.8.5"
  }
 },
 "nbformat": 4,
 "nbformat_minor": 2
}
